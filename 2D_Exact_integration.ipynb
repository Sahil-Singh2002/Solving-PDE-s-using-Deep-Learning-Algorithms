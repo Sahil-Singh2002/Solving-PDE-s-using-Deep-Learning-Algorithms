{
  "cells": [
    {
      "cell_type": "markdown",
      "metadata": {
        "id": "view-in-github",
        "colab_type": "text"
      },
      "source": [
        "<a href=\"https://colab.research.google.com/github/Sahil-Singh2002/Solving-PDE-s-using-Deep-Learning-Algorithms/blob/Sahil-Singh2002-patch-1/2D_Exact_integration.ipynb\" target=\"_parent\"><img src=\"https://colab.research.google.com/assets/colab-badge.svg\" alt=\"Open In Colab\"/></a>"
      ]
    },
    {
      "cell_type": "code",
      "source": [
        "import numpy as np\n",
        "def domain_1(x):\n",
        "    # Triangle constraints\n",
        "    in_triangle = (x[0] >= 0) & (x[1] >= 0) & (x[0] + x[1] <= 1)\n",
        "\n",
        "    # Point must satisfy both the triangle constraints\n",
        "    return in_triangle\n",
        "\n",
        "def domain_2(x, w_i, b_i):\n",
        "    # Triangle constraints\n",
        "    in_domain_1 = domain_1(x)\n",
        "\n",
        "    # Hyperplane constraint: w1*x1 + w2*x2 + b => 0\n",
        "    in_half_space = (w_i.T @ x - b_i >= 0)\n",
        "\n",
        "    # Point must satisfy both the triangle constraints and the hyperplane constraint\n",
        "    return in_domain_1 & in_half_space\n",
        "\n",
        "\n",
        "def domain_3(x, w_j, w_i, b_i, b_j):\n",
        "    # Triangle constraints\n",
        "    in_domain_2 = domain_2(x, w_i, b_i)\n",
        "\n",
        "    # Hyperplane constraint: w1*x1 + w2*x2 + b => 0\n",
        "    in_half_space = (w_j.T @ x - b_j >= 0)\n",
        "\n",
        "    # Point must satisfy both the triangle constraints and the hyperplane constraint\n",
        "    return in_domain_2 & in_half_space\n",
        "\n",
        "\n",
        "# Step 1: Solve the linear systems for each node\n",
        "  # Node 1\n",
        "A1_1 = np.array([[1, 0], [0, 1]])\n",
        "b1_1 = np.array([0, 0])\n",
        "x1 = np.linalg.solve(A1_1, b1_1)\n",
        "\n",
        "\n",
        "  # Node 2\n",
        "A2_1 = np.array([[1, 0], [1, 1]])\n",
        "b2_1 = np.array([0, 1])\n",
        "x2 = np.linalg.solve(A2_1, b2_1)\n",
        "\n",
        "\n",
        "  # Node 3\n",
        "A3_1 = np.array([[0, 1], [1, 1]])\n",
        "b3_1 = np.array([0, 1])\n",
        "x3 = np.linalg.solve(A3_1, b3_1)\n",
        "\n",
        "\n",
        "# Store the results in a list of dictionaries\n",
        "nodes_1 = [\n",
        "    {\"node\": 1, \"coordinates\": x1},\n",
        "    {\"node\": 2, \"coordinates\": x2},\n",
        "    {\"node\": 3, \"coordinates\": x3}\n",
        "]\n",
        "\n",
        "print(\"____________________Step 1 Nodes order and viable____________________\")\n",
        "# Print the list of nodes\n",
        "for node in nodes_1:\n",
        "    print(f\"Node {node['node']} coordinates: {node['coordinates']}\")\n",
        "\n",
        "\n",
        "#Step 2\n",
        "print(\"____________________Step 2 Nodes order and viable____________________\")\n",
        "  #Hypothetical hyperplane adjust the hyper plane dynamically for the NN later.\n",
        "w_i , b = np.array([-2, 1]) , +1 # where -2x+y = 1\n",
        "#b = 3 #This just implies 4*x1 +6*x2 >= 3 your hyperplane\n",
        "\n",
        "  #Check if the old nodes from nodes_1 are viable for for the new domain\n",
        "\n",
        "# Filtering nodes based on domain_2 viability\n",
        "nodes_1_filtered = [node for node in nodes_1 if domain_2(node[\"coordinates\"], w_i, b)]\n",
        "\n",
        "print(\"____________________Nodes 1 filtered to new domain____________________\")\n",
        "# Print the filtered nodes\n",
        "for node in nodes_1_filtered:\n",
        "    print(f\"Node {node['node']} coordinates: {node['coordinates']} is True\")\n",
        "\n",
        "\n",
        "#Solve the linear systems for each node\n",
        "  # Node 4\n",
        "A4_2 = np.array([[1, 1], [4, 6]])\n",
        "b4_2 = np.array([1, 3])\n",
        "x4 = np.linalg.solve(A4_2, b4_2)\n",
        "\n",
        "\n",
        "  # Node 5\n",
        "A5_2 = np.array([[1, 0], [4, 6]])\n",
        "b5_2 = np.array([0, 3])\n",
        "x5 = np.linalg.solve(A5_2, b5_2)\n",
        "\n",
        "\n",
        "  # Node 6\n",
        "A6_2 = np.array([[0, 1], [4, 6]])\n",
        "b6_2 = np.array([0, 3])\n",
        "x6 = np.linalg.solve(A6_2, b6_2)\n",
        "\n",
        "\n",
        "# Store the results in a list of dictionaries\n",
        "nodes_2_dummy = [\n",
        "    {\"node\": 4, \"coordinates\": x4},\n",
        "    {\"node\": 5, \"coordinates\": x5},\n",
        "    {\"node\": 6, \"coordinates\": x6}\n",
        "]\n",
        "\n",
        "# Filtering nodes based on domain_2 viability\n",
        "nodes_2 = [node for node in nodes_2_dummy if domain_2(node[\"coordinates\"], w_i, b)]\n",
        "\n",
        "print(\"_____All nodes_2_______\")\n",
        "# Print the filtered nodes\n",
        "for node in nodes_2:\n",
        "    print(f\"Node {node['node']} coordinates: {node['coordinates']} is True\")\n",
        "\n",
        "def euclidean_distance(coord1, coord2):\n",
        "    \"\"\"Calculate the Euclidean distance between two coordinates.\"\"\"\n",
        "    return np.linalg.norm(coord1 - coord2)\n",
        "\n",
        "def reorder_nodes(reference_node, nodes_to_sort):\n",
        "    \"\"\"\n",
        "    Reorders the nodes in `nodes_to_sort` such that the first node is the closest\n",
        "    to `reference_node`, and each subsequent node is closest to the previous one.\n",
        "    \"\"\"\n",
        "    ordered_nodes = []\n",
        "    remaining_nodes = nodes_to_sort.copy()\n",
        "    current_reference = reference_node\n",
        "\n",
        "    while remaining_nodes:\n",
        "        # Find the closest node to the current reference\n",
        "        closest_node = min(\n",
        "            remaining_nodes,\n",
        "            key=lambda node: euclidean_distance(current_reference, node[\"coordinates\"])\n",
        "        )\n",
        "        # Add the closest node to the ordered list and update the reference\n",
        "        ordered_nodes.append(closest_node)\n",
        "        remaining_nodes.remove(closest_node)\n",
        "        current_reference = closest_node[\"coordinates\"]\n",
        "\n",
        "    return ordered_nodes\n",
        "\n",
        "# Use the last node from nodes_1_filtered as the starting reference\n",
        "if nodes_1_filtered:\n",
        "    last_node_coordinates = nodes_1_filtered[-1][\"coordinates\"]\n",
        "    reordered_nodes_2 = reorder_nodes(last_node_coordinates, nodes_2)\n",
        "\n",
        "    print(\"____________________Reordered Nodes 2____________________\")\n",
        "    for node in reordered_nodes_2:\n",
        "        print(f\"Node {node['node']} coordinates: {node['coordinates']}\")\n",
        "else:\n",
        "    print(\"No nodes in nodes_1_filtered to use as a reference for reordering nodes_2.\")\n",
        "\n",
        "# Merge nodes_1_filtered and reordered_nodes_2\n",
        "nodes_2_filtered = nodes_1_filtered + reordered_nodes_2\n",
        "\n",
        "print(\"____________________Merged Nodes: nodes_2_filtered____________________\")\n",
        "for node in nodes_2_filtered:\n",
        "    print(f\"Node {node['node']} coordinates: {node['coordinates']}\")"
      ],
      "metadata": {
        "colab": {
          "base_uri": "https://localhost:8080/"
        },
        "id": "sGBfzWil6PBn",
        "outputId": "eea5d2d9-f7c1-435b-edb0-2f44b3025da5"
      },
      "execution_count": null,
      "outputs": [
        {
          "output_type": "stream",
          "name": "stdout",
          "text": [
            "____________________Step 1 Nodes order and viable____________________\n",
            "Node 1 coordinates: [0. 0.]\n",
            "Node 2 coordinates: [0. 1.]\n",
            "Node 3 coordinates: [1. 0.]\n",
            "____________________Step 2 Nodes order and viable____________________\n",
            "____________________Nodes 1 filtered to new domain____________________\n",
            "Node 2 coordinates: [0. 1.] is True\n",
            "_____All nodes_2_______\n",
            "____________________Reordered Nodes 2____________________\n",
            "____________________Merged Nodes: nodes_2_filtered____________________\n",
            "Node 2 coordinates: [0. 1.]\n"
          ]
        }
      ]
    },
    {
      "cell_type": "markdown",
      "source": [
        "#Function"
      ],
      "metadata": {
        "id": "Mshpybywam-s"
      }
    },
    {
      "cell_type": "code",
      "source": [
        "import numpy as np\n",
        "\n",
        "def domain_1(x: np.ndarray) -> bool:\n",
        "    \"\"\"\n",
        "    Check if a point lies within a triangle defined by constraints:\n",
        "    - x[0] >= 0\n",
        "    - x[1] >= 0\n",
        "    - x[0] + x[1] <= 1\n",
        "\n",
        "    Args:\n",
        "        x (np.ndarray): A 2D point as a NumPy array.\n",
        "\n",
        "    Returns:\n",
        "        bool: True if the point lies within the triangle, False otherwise.\n",
        "    \"\"\"\n",
        "    return (x[0] >= 0) & (x[1] >= 0) & (x[0] + x[1] <= 1)\n",
        "\n",
        "def domain_2(x: np.ndarray, w_i: np.ndarray, b_i: float) -> bool:\n",
        "    \"\"\"\n",
        "    Check if a point lies within the intersection of a triangle (domain_1)\n",
        "    and a half-space defined by a hyperplane:\n",
        "        w_i.T @ x - b_i >= 0\n",
        "\n",
        "    Args:\n",
        "        x (np.ndarray): A 2D point as a NumPy array.\n",
        "        w_i (np.ndarray): A 2D weight vector defining the hyperplane.\n",
        "        b_i (float): A bias term for the hyperplane.\n",
        "\n",
        "    Returns:\n",
        "        bool: True if the point satisfies both constraints, False otherwise.\n",
        "    \"\"\"\n",
        "    return domain_1(x) & (np.dot(w_i, x) >= b_i)\n",
        "\n",
        "def domain_3(x: np.ndarray, w_j: np.ndarray, w_i: np.ndarray, b_i: float, b_j: float) -> bool:\n",
        "    \"\"\"\n",
        "    Check if a point lies within the intersection of domain_2\n",
        "    and another half-space defined by a second hyperplane:\n",
        "        w_j.T @ x - b_j >= 0\n",
        "\n",
        "    Args:\n",
        "        x (np.ndarray): A 2D point as a NumPy array.\n",
        "        w_j (np.ndarray): A 2D weight vector for the second hyperplane.\n",
        "        w_i (np.ndarray): A 2D weight vector for the first hyperplane.\n",
        "        b_i (float): A bias term for the first hyperplane.\n",
        "        b_j (float): A bias term for the second hyperplane.\n",
        "\n",
        "    Returns:\n",
        "        bool: True if the point satisfies all constraints, False otherwise.\n",
        "    \"\"\"\n",
        "    return domain_2(x, w_i, b_i) & ((w_j.T @ x) >= b_j )\n",
        "\n",
        "def euclidean_distance(coord1: np.ndarray, coord2: np.ndarray) -> float:\n",
        "    \"\"\"\n",
        "    Calculate the Euclidean distance between two 2D coordinates.\n",
        "\n",
        "    Args:\n",
        "        coord1 (np.ndarray): The first coordinate as a NumPy array.\n",
        "        coord2 (np.ndarray): The second coordinate as a NumPy array.\n",
        "\n",
        "    Returns:\n",
        "        float: The Euclidean distance between coord1 and coord2.\n",
        "    \"\"\"\n",
        "    return np.linalg.norm(coord1 - coord2)\n",
        "\n",
        "def reorder_nodes(reference_node: np.ndarray, nodes_to_sort: list[dict]) -> list[dict]:\n",
        "    \"\"\"\n",
        "    Reorders a list of nodes based on proximity to a reference node.\n",
        "    The closest node is chosen first, and each subsequent node is the closest\n",
        "    to the previous one.\n",
        "\n",
        "    Args:\n",
        "        reference_node (np.ndarray): A 2D coordinate representing the reference node.\n",
        "        nodes_to_sort (list[dict]): A list of nodes, where each node is a dictionary\n",
        "                                    containing a \"coordinates\" key with a 2D NumPy array.\n",
        "\n",
        "    Returns:\n",
        "        list[dict]: A reordered list of nodes sorted by proximity.\n",
        "    \"\"\"\n",
        "    ordered_nodes = []\n",
        "    remaining_nodes = nodes_to_sort.copy()\n",
        "    current_reference = reference_node\n",
        "\n",
        "    while remaining_nodes:\n",
        "        # Find the closest node to the current reference\n",
        "        closest_node = min(\n",
        "            remaining_nodes,\n",
        "            key=lambda node: euclidean_distance(current_reference, node[\"coordinates\"])\n",
        "        )\n",
        "        # Add the closest node to the ordered list\n",
        "        ordered_nodes.append(closest_node)\n",
        "        # Remove the exact node by identity, not by value\n",
        "        remaining_nodes = [node for node in remaining_nodes if node is not closest_node]\n",
        "        # Update the current reference to the closest node\n",
        "        current_reference = closest_node[\"coordinates\"]\n",
        "\n",
        "    return ordered_nodes"
      ],
      "metadata": {
        "id": "GIMU5t9jdNoG"
      },
      "execution_count": null,
      "outputs": []
    },
    {
      "cell_type": "markdown",
      "source": [
        "#Step 1"
      ],
      "metadata": {
        "id": "cX2SbQ7oaqRs"
      }
    },
    {
      "cell_type": "code",
      "source": [
        "# Step 1: Solve the linear systems for each node\n",
        "# x is defined as (x,y) for desmose demonstration\n",
        "\n",
        "boundary_1,b1 = np.array([1,0]), 0 # where x = 1\n",
        "boundary_2,b2 = np.array([0,1]), 0 # where y = 1\n",
        "boundary_3,b3 = np.array([1,1]), 1 # where x + y = 1\n",
        "\n",
        "A1_1 = np.array([boundary_1, boundary_2])\n",
        "b1_1 = np.array([b1, b2])\n",
        "x1 = np.linalg.solve(A1_1, b1_1)\n",
        "\n",
        "A2_1 = np.array([boundary_3, boundary_1])\n",
        "b2_1 = np.array([b3, b1])\n",
        "x2 = np.linalg.solve(A2_1, b2_1)\n",
        "\n",
        "A3_1 = np.array([boundary_2, boundary_3])\n",
        "b3_1 = np.array([b2, b3])\n",
        "x3 = np.linalg.solve(A3_1, b3_1)\n",
        "\n",
        "# Store the results in a list of dictionaries, including A and b\n",
        "nodes_1 = [\n",
        "    {\"node\": 1, \"coordinates\": x1, \"A\": A1_1, \"b\": b1_1},\n",
        "    {\"node\": 2, \"coordinates\": x2, \"A\": A2_1, \"b\": b2_1},\n",
        "    {\"node\": 3, \"coordinates\": x3, \"A\": A3_1, \"b\": b3_1},\n",
        "]\n",
        "\n",
        "print(\"____________________Step 1 Nodes order and viable____________________\")\n",
        "for node in nodes_1:\n",
        "    print(f\"Node {node['node']} coordinates: {node['coordinates']}, A: {node['A']}, b: {node['b']}\")"
      ],
      "metadata": {
        "colab": {
          "base_uri": "https://localhost:8080/"
        },
        "id": "Z2egl5n8aGjv",
        "outputId": "47bf5e0a-0949-49e7-a3e4-6e56ee4b9996"
      },
      "execution_count": null,
      "outputs": [
        {
          "output_type": "stream",
          "name": "stdout",
          "text": [
            "____________________Step 1 Nodes order and viable____________________\n",
            "Node 1 coordinates: [0. 0.], A: [[1 0]\n",
            " [0 1]], b: [0 0]\n",
            "Node 2 coordinates: [0. 1.], A: [[1 1]\n",
            " [1 0]], b: [1 0]\n",
            "Node 3 coordinates: [1. 0.], A: [[0 1]\n",
            " [1 1]], b: [0 1]\n"
          ]
        }
      ]
    },
    {
      "cell_type": "markdown",
      "source": [
        "#Step 2"
      ],
      "metadata": {
        "id": "Ao0VqwbaazG5"
      }
    },
    {
      "cell_type": "code",
      "source": [
        "# Step 2: Define hyperplane and filter nodes, needs be dynamically changing\n",
        "\n",
        "w_i, b_i = np.array([4, 6]), 3  # Hyperplane y - 0.5x = - 1\n",
        "nodes_1_filtered = [node for node in nodes_1 if domain_2(node[\"coordinates\"], w_i, b_i)]\n",
        "\n",
        "print(\"____________________Nodes 1 filtered to new domain____________________\")\n",
        "for node in nodes_1_filtered:\n",
        "    print(f\"Node {node['node']} coordinates: {node['coordinates']}, A: {node['A']}, b: {node['b']}\")\n",
        "\n",
        "# Solve the linear systems for the new nodes\n",
        "A4_2 = np.array([w_i, boundary_3])\n",
        "b4_2 = np.array([b_i, b3])\n",
        "x4 = np.linalg.solve(A4_2, b4_2)\n",
        "\n",
        "\n",
        "A5_2 = np.array([w_i, boundary_1])\n",
        "b5_2 = np.array([b_i, b1])\n",
        "x5 = np.linalg.solve(A5_2, b5_2)\n",
        "\n",
        "A6_2 = np.array([boundary_2, w_i])\n",
        "b6_2 = np.array([b2, b_i])\n",
        "x6 = np.linalg.solve(A6_2, b6_2)\n",
        "\n",
        "print(\"______________________________________________________________________\")\n",
        "\n",
        "# Store the results in a list of dictionaries, including A and b\n",
        "nodes_2_dummy = [\n",
        "    {\"node\": 4, \"coordinates\": x4, \"A\": A4_2, \"b\": b4_2},\n",
        "    {\"node\": 5, \"coordinates\": x5, \"A\": A5_2, \"b\": b5_2},\n",
        "    {\"node\": 6, \"coordinates\": x6, \"A\": A6_2, \"b\": b6_2},\n",
        "]\n",
        "\n",
        "print(\"____________________Step 2 Nodes____________________\")\n",
        "for node in nodes_2_dummy:\n",
        "    print(f\"Node {node['node']} coordinates: {node['coordinates']}, A: {node['A']}, b: {node['b']}\")\n"
      ],
      "metadata": {
        "colab": {
          "base_uri": "https://localhost:8080/"
        },
        "id": "Z9u5eAncax7x",
        "outputId": "2f828d61-60ef-4c70-e050-2c06b1ef9acc"
      },
      "execution_count": null,
      "outputs": [
        {
          "output_type": "stream",
          "name": "stdout",
          "text": [
            "____________________Nodes 1 filtered to new domain____________________\n",
            "Node 2 coordinates: [0. 1.], A: [[1 1]\n",
            " [1 0]], b: [1 0]\n",
            "Node 3 coordinates: [1. 0.], A: [[0 1]\n",
            " [1 1]], b: [0 1]\n",
            "______________________________________________________________________\n",
            "____________________Step 2 Nodes____________________\n",
            "Node 4 coordinates: [ 1.5 -0.5], A: [[4 6]\n",
            " [1 1]], b: [3 1]\n",
            "Node 5 coordinates: [0.  0.5], A: [[4 6]\n",
            " [1 0]], b: [3 0]\n",
            "Node 6 coordinates: [0.75 0.  ], A: [[0 1]\n",
            " [4 6]], b: [0 3]\n"
          ]
        }
      ]
    },
    {
      "cell_type": "code",
      "source": [
        "\n",
        "# Filter the new nodes based on domain_2\n",
        "nodes_2 = [node for node in nodes_2_dummy if domain_2(node[\"coordinates\"], w_i, b_i)]\n",
        "\n",
        "print(\"_____All nodes_2_filtered _______\")\n",
        "for node in nodes_2:\n",
        "    print(f\"Node {node['node']} coordinates: {node['coordinates']}, A: {node['A']}, b: {node['b']}\")\n",
        "\n",
        "# Reorder nodes_2 based on proximity to the last node in nodes_1_filtered\n",
        "if nodes_1_filtered:\n",
        "    last_node_coordinates = nodes_1_filtered[-1][\"coordinates\"]\n",
        "    reordered_nodes_2 = reorder_nodes(last_node_coordinates, nodes_2)\n",
        "\n",
        "    print(\"____________________Reordered Nodes 2____________________\")\n",
        "    for node in reordered_nodes_2:\n",
        "        print(f\"Node {node['node']} coordinates: {node['coordinates']}, A: {node['A']}, b: {node['b']}\")\n",
        "else:\n",
        "    print(\"No nodes in nodes_1_filtered to use as a reference for reordering nodes_2.\")\n",
        "\n",
        "# Merge nodes_1_filtered and reordered_nodes_2\n",
        "nodes_2_filtered = nodes_1_filtered + reordered_nodes_2\n",
        "\n",
        "print(\"____________________Merged Nodes:____________________\")\n",
        "for node in nodes_2_filtered:\n",
        "    print(f\"Node {node['node']} coordinates: {node['coordinates']}, A: {node['A']}, b: {node['b']}\")\n",
        "\n",
        "#This will give the neccesary nodes for for the diagonal enteries of the mass matrix M_ii"
      ],
      "metadata": {
        "colab": {
          "base_uri": "https://localhost:8080/"
        },
        "id": "-wKxaw49jO08",
        "outputId": "f67462d8-680c-474e-f851-4ffc06f1598f"
      },
      "execution_count": null,
      "outputs": [
        {
          "output_type": "stream",
          "name": "stdout",
          "text": [
            "_____All nodes_2_filtered _______\n",
            "Node 5 coordinates: [0.  0.5], A: [[4 6]\n",
            " [1 0]], b: [3 0]\n",
            "Node 6 coordinates: [0.75 0.  ], A: [[0 1]\n",
            " [4 6]], b: [0 3]\n",
            "____________________Reordered Nodes 2____________________\n",
            "Node 6 coordinates: [0.75 0.  ], A: [[0 1]\n",
            " [4 6]], b: [0 3]\n",
            "Node 5 coordinates: [0.  0.5], A: [[4 6]\n",
            " [1 0]], b: [3 0]\n",
            "____________________Merged Nodes:____________________\n",
            "Node 2 coordinates: [0. 1.], A: [[1 1]\n",
            " [1 0]], b: [1 0]\n",
            "Node 3 coordinates: [1. 0.], A: [[0 1]\n",
            " [1 1]], b: [0 1]\n",
            "Node 6 coordinates: [0.75 0.  ], A: [[0 1]\n",
            " [4 6]], b: [0 3]\n",
            "Node 5 coordinates: [0.  0.5], A: [[4 6]\n",
            " [1 0]], b: [3 0]\n"
          ]
        }
      ]
    },
    {
      "cell_type": "markdown",
      "source": [
        "Use for Mass matric diagonal entries"
      ],
      "metadata": {
        "id": "P2eN7KAuVpeo"
      }
    },
    {
      "cell_type": "code",
      "source": [
        "# Initialize lists to store a and b\n",
        "a_list = []\n",
        "b_list = []\n",
        "n = len(nodes_2_filtered)  # Number of nodes\n",
        "D = np.zeros((n, n))  # Initialize an n x n matrix filled with zeros\n",
        "# Now, compare subsequent nodes, including comparing the last node with the first node\n",
        "for i in range(0, n):\n",
        "    # The next node index, wrap around to the first node when at the last node\n",
        "    next_node_index = (i + 1) % n\n",
        "\n",
        "    for j in range(len(nodes_2_filtered[i][\"A\"])):\n",
        "        for k in range(len(nodes_2_filtered[next_node_index][\"A\"])):\n",
        "            if np.array_equal(nodes_2_filtered[i][\"A\"][j], nodes_2_filtered[next_node_index][\"A\"][k]):\n",
        "                # If a match is found for the row of A\n",
        "                a_list.append(nodes_2_filtered[i][\"A\"][j])\n",
        "                b_list.append(nodes_2_filtered[i][\"b\"][j])\n",
        "\n",
        "# Now that we have appended matching values for a and b, print the final a_list and b_list\n",
        "print(\"a_list:\", a_list)\n",
        "print(\"b_list:\", b_list)\n",
        "\n",
        "\n",
        "# Loop through each pair of nodes and calculate the distance\n",
        "for i in range(n):\n",
        "    for j in range(i, n):  # Only loop through the upper triangle (including diagonal)\n",
        "        coord_i = nodes_2_filtered[i][\"coordinates\"]\n",
        "        coord_j = nodes_2_filtered[j][\"coordinates\"]\n",
        "        distance = euclidean_distance(coord_i, coord_j)\n",
        "\n",
        "        D[i, j] = distance  # Fill upper triangle\n",
        "        D[j, i] = distance  # Fill lower triangle (matrix is symmetric)\n",
        "\n",
        "\n",
        "print(\"____________________Merged Nodes:____________________\")\n",
        "for node in nodes_2_filtered:\n",
        "    print(f\"Node {node['node']} coordinates: {node['coordinates']}, A: {node['A']}, b: {node['b']}\")\n",
        "# Print the resulting distance matrix M\n",
        "print(\"Distance Matrix d_{i,j}:\")\n",
        "print(D)"
      ],
      "metadata": {
        "colab": {
          "base_uri": "https://localhost:8080/"
        },
        "id": "_nkDZUHU6hpA",
        "outputId": "fba6a764-6494-4ad6-822d-7876ab4f22b6"
      },
      "execution_count": null,
      "outputs": [
        {
          "output_type": "stream",
          "name": "stdout",
          "text": [
            "a_list: [array([1, 1]), array([0, 1]), array([4, 6]), array([1, 0])]\n",
            "b_list: [1, 0, 3, 0]\n",
            "____________________Merged Nodes:____________________\n",
            "Node 2 coordinates: [0. 1.], A: [[1 1]\n",
            " [1 0]], b: [1 0]\n",
            "Node 3 coordinates: [1. 0.], A: [[0 1]\n",
            " [1 1]], b: [0 1]\n",
            "Node 6 coordinates: [0.75 0.  ], A: [[0 1]\n",
            " [4 6]], b: [0 3]\n",
            "Node 5 coordinates: [0.  0.5], A: [[4 6]\n",
            " [1 0]], b: [3 0]\n",
            "Distance Matrix d_{i,j}:\n",
            "[[0.         1.41421356 1.25       0.5       ]\n",
            " [1.41421356 0.         0.25       1.11803399]\n",
            " [1.25       0.25       0.         0.90138782]\n",
            " [0.5        1.11803399 0.90138782 0.        ]]\n"
          ]
        }
      ]
    },
    {
      "cell_type": "code",
      "source": [
        "# Now, calculate the summation formula\n",
        "summation_result = 0\n",
        "\n",
        "for i in range(n):\n",
        "    b_i = b_list[i]  # b_i for node i\n",
        "    a_i = a_list[i]  # a_i for node i\n",
        "\n",
        "    # Compute the norm of a_i\n",
        "    norm_a_i = np.linalg.norm(a_i)\n",
        "\n",
        "    # Sum of distances d_ij for all j\n",
        "    sum_d_ij = 0\n",
        "    for j in range(n):\n",
        "        sum_d_ij += D[i, j]  # Use the precomputed distance matrix D\n",
        "\n",
        "    # Add the term to the summation result\n",
        "    summation_result += (b_i / norm_a_i) * sum_d_ij\n",
        "\n",
        "# Final result: divide by n to get the average\n",
        "final_result = (1 / 2) * summation_result\n",
        "\n",
        "print(\"Final result of the summation formula:\", final_result)"
      ],
      "metadata": {
        "colab": {
          "base_uri": "https://localhost:8080/"
        },
        "id": "PYIgN3ZML0nw",
        "outputId": "4b0a69e4-3647-46e7-f2e3-42a4231abbfa"
      },
      "execution_count": null,
      "outputs": [
        {
          "output_type": "stream",
          "name": "stdout",
          "text": [
            "Final result of the summation formula: 1.6182372939149203\n"
          ]
        }
      ]
    },
    {
      "cell_type": "code",
      "source": [
        "import matplotlib.pyplot as plt\n",
        "\n",
        "def plot_domains(nodes, filtered_nodes, w, b, domain_title=\"\"):\n",
        "    fig, ax = plt.subplots()\n",
        "    # Plot the original triangle\n",
        "    triangle = np.array([[0, 0], [1, 0], [0, 1], [0, 0]])\n",
        "    ax.plot(triangle[:, 0], triangle[:, 1], label=\"Domain 1\")\n",
        "\n",
        "    # Plot the hyperplane\n",
        "    x_vals = np.linspace(-0.1, 1.1, 100)\n",
        "    y_vals = (b - w[0] * x_vals) / w[1]\n",
        "    ax.plot(x_vals, y_vals, label=\"Hyperplane\", linestyle=\"--\")\n",
        "\n",
        "    # Plot nodes\n",
        "    for node in nodes:\n",
        "        ax.scatter(*node[\"coordinates\"], color=\"blue\", label=f\"Node {node['node']} (all)\")\n",
        "    for node in filtered_nodes:\n",
        "        ax.scatter(*node[\"coordinates\"], color=\"green\", label=f\"Node {node['node']} (filtered)\")\n",
        "\n",
        "    ax.set_xlim([-0.1, 1.1])\n",
        "    ax.set_ylim([-0.1, 1.1])\n",
        "    ax.legend()\n",
        "    ax.set_title(domain_title)\n",
        "    plt.show()\n",
        "w_i, b_i = np.array([4, 6]), 3  # Hyperplane y - 0.5x = - 1\n",
        "\n",
        "plot_domains(nodes_1, nodes_1_filtered, w_i, b_i, \"Domain 2 Filtering\")\n"
      ],
      "metadata": {
        "colab": {
          "base_uri": "https://localhost:8080/",
          "height": 452
        },
        "id": "szg7165vwY43",
        "outputId": "73dad4e0-7ddb-4d8d-9d39-201ca6acefe2"
      },
      "execution_count": null,
      "outputs": [
        {
          "output_type": "display_data",
          "data": {
            "text/plain": [
              "<Figure size 640x480 with 1 Axes>"
            ],
            "image/png": "[encoded data removed]"
          },
          "metadata": {}
        }
      ]
    }
  ],
  "metadata": {
    "colab": {
      "name": "2D_Exact_integration",
      "provenance": [],
      "include_colab_link": true
    },
    "kernelspec": {
      "display_name": "Python 3",
      "name": "python3"
    }
  },
  "nbformat": 4,
  "nbformat_minor": 0
}